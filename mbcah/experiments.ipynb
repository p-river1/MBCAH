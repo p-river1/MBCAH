{
 "cells": [
  {
   "cell_type": "markdown",
   "metadata": {
    "slideshow": {
     "slide_type": ""
    },
    "tags": []
   },
   "source": [
    "# Imports"
   ]
  },
  {
   "cell_type": "code",
   "execution_count": null,
   "metadata": {
    "ExecuteTime": {
     "end_time": "2024-01-15T11:34:54.247254Z",
     "start_time": "2024-01-15T11:34:54.243571Z"
    },
    "slideshow": {
     "slide_type": ""
    },
    "tags": []
   },
   "outputs": [],
   "source": [
    "model_results_dir = '.'\n",
    "reproducible = True  # True, False"
   ]
  },
  {
   "cell_type": "code",
   "execution_count": null,
   "metadata": {
    "ExecuteTime": {
     "end_time": "2024-01-15T11:34:55.147987Z",
     "start_time": "2024-01-15T11:34:54.248307Z"
    },
    "editable": false,
    "slideshow": {
     "slide_type": ""
    },
    "tags": []
   },
   "outputs": [],
   "source": [
    "import os\n",
    "import numpy as np\n",
    "import matplotlib.pyplot as plt\n",
    "import seaborn as sns\n",
    "\n",
    "from scipy.optimize import linear_sum_assignment\n",
    "from sklearn.metrics import confusion_matrix, adjusted_rand_score\n",
    "\n",
    "if not os.path.isdir(model_results_dir):\n",
    "    os.mkdir(model_results_dir)\n",
    "\n",
    "%matplotlib inline\n",
    "\n",
    "from mbcah import (\n",
    "    sampling,\n",
    "    plotting,\n",
    "    two_steps_fit,\n",
    "    model_selection,\n",
    ")\n",
    "from mbcah.utils import similarity_matrices"
   ]
  },
  {
   "cell_type": "markdown",
   "metadata": {
    "slideshow": {
     "slide_type": ""
    },
    "tags": []
   },
   "source": [
    "# Sampling data"
   ]
  },
  {
   "cell_type": "code",
   "execution_count": null,
   "metadata": {
    "ExecuteTime": {
     "end_time": "2024-01-15T11:34:55.149296Z",
     "start_time": "2024-01-15T11:34:55.149288Z"
    },
    "slideshow": {
     "slide_type": ""
    },
    "tags": []
   },
   "outputs": [],
   "source": [
    "N = 200  # number of curves\n",
    "T = 100  # number of timesteps\n",
    "K = 2  # number of clusters\n",
    "S = np.arange(0, T // 4, 3)  # set of shifts\n",
    "\n",
    "alpha_rho = 1.  # parameter of the dirichlet used to sample parameter rho\n",
    "alpha_gamma = 1. # parameter of the dirichlet used to sample parameter gamma\n",
    "\n",
    "sigma2_gp_mu = 1e-3  # controls the smoothness of the mu_k\n",
    "sigma2_gp_sigma2 = 1e5  # controls the smoothness of the sigma2_k, set to high value for constant variances sigma2_jk = sigma2_k\n",
    "s2 = 1e-1  # observation noise\n",
    "\n",
    "# mask for missing data\n",
    "n_intervals = 20\n",
    "p_missing = .2"
   ]
  },
  {
   "cell_type": "code",
   "execution_count": null,
   "metadata": {
    "ExecuteTime": {
     "end_time": "2024-01-15T11:34:55.150170Z",
     "start_time": "2024-01-15T11:34:55.150164Z"
    },
    "editable": false,
    "slideshow": {
     "slide_type": ""
    },
    "tags": []
   },
   "outputs": [],
   "source": [
    "random_state = np.random.default_rng(1234) if reproducible else np.random\n",
    "dtype = 'float64'\n",
    "\n",
    "sampler = sampling.Sampler(\n",
    "    N, T, K, S,\n",
    "    alpha_rho,\n",
    "    alpha_gamma,\n",
    "    sigma2_gp_mu,\n",
    "    sigma2_gp_sigma2,\n",
    "    s2,\n",
    "    random_state,\n",
    "    dtype\n",
    ")\n",
    "sampler.sample()\n",
    "\n",
    "mask = sampling.sample_intervals_mask(\n",
    "    X=sampler.X,\n",
    "    n_intervals=n_intervals,\n",
    "    p_missing=p_missing,\n",
    "    random_state=sampler.random_state\n",
    ")\n",
    "sampler.X[mask] = np.nan\n",
    "\n",
    "plt.figure(figsize=(8, 4))\n",
    "plt.plot(sampler.X.T)\n",
    "plt.title('Observed curves')\n",
    "\n",
    "plt.figure(figsize=(8, 4))\n",
    "plt.plot(sampler.mu)\n",
    "plt.title('Cluster means mu_jk')\n",
    "\n",
    "plt.figure(figsize=(8, 4))\n",
    "plt.plot(sampler.sigma2)\n",
    "plt.title('Cluster variances sigma2_jk')\n",
    "\n",
    "f, ax = plt.subplots(figsize=(8, 4))\n",
    "sns.heatmap(mask, ax=ax, cbar=False)\n",
    "ax.set_title('Mask of missing values');\n",
    "\n",
    "sizes = sampler.z.sum(0)\n",
    "f, ax = plt.subplots(sampler.K, figsize=(8, 4 * sampler.K))\n",
    "for k in range(K):\n",
    "    ax[k].plot(sampler.X[sampler.Z == k].T)\n",
    "    ax[k].set_title(f'Observed curves in cluster {k} of size {sizes[k]}')\n",
    "\n",
    "f, ax = plt.subplots(sampler.K, figsize=(4, 2 * sampler.K), tight_layout=True)\n",
    "for k in range(sampler.K):\n",
    "    ax[k].bar(sampler.S, sampler.gamma[k])\n",
    "    ax[k].set_title(f'Distribution of shifts in cluster K{k} gamma_k');"
   ]
  },
  {
   "cell_type": "markdown",
   "metadata": {
    "slideshow": {
     "slide_type": ""
    },
    "tags": []
   },
   "source": [
    "# Model"
   ]
  },
  {
   "cell_type": "markdown",
   "metadata": {
    "slideshow": {
     "slide_type": ""
    },
    "tags": []
   },
   "source": [
    "## Build semi-supervision"
   ]
  },
  {
   "cell_type": "markdown",
   "metadata": {
    "editable": false,
    "slideshow": {
     "slide_type": ""
    },
    "tags": []
   },
   "source": [
    "Choose one between \"Unsupervised\" and \"Semi-supervised\""
   ]
  },
  {
   "cell_type": "markdown",
   "metadata": {
    "slideshow": {
     "slide_type": ""
    },
    "tags": []
   },
   "source": [
    "### Unsupervised"
   ]
  },
  {
   "cell_type": "code",
   "execution_count": null,
   "metadata": {
    "ExecuteTime": {
     "end_time": "2024-01-15T11:34:55.150790Z",
     "start_time": "2024-01-15T11:34:55.150783Z"
    },
    "slideshow": {
     "slide_type": ""
    },
    "tags": []
   },
   "outputs": [],
   "source": [
    "C = None"
   ]
  },
  {
   "cell_type": "markdown",
   "metadata": {
    "slideshow": {
     "slide_type": ""
    },
    "tags": []
   },
   "source": [
    "### Semi-supervised"
   ]
  },
  {
   "cell_type": "code",
   "execution_count": null,
   "metadata": {
    "ExecuteTime": {
     "end_time": "2024-01-15T11:34:55.151325Z",
     "start_time": "2024-01-15T11:34:55.151319Z"
    },
    "slideshow": {
     "slide_type": ""
    },
    "tags": []
   },
   "outputs": [],
   "source": [
    "frac = .01\n",
    "frac_noise = 0.\n",
    "stratified = False\n",
    "path_only  = True"
   ]
  },
  {
   "cell_type": "code",
   "execution_count": null,
   "metadata": {
    "ExecuteTime": {
     "end_time": "2024-01-15T11:34:55.152011Z",
     "start_time": "2024-01-15T11:34:55.152005Z"
    },
    "editable": false,
    "slideshow": {
     "slide_type": ""
    },
    "tags": []
   },
   "outputs": [],
   "source": [
    "C = (\n",
    "    similarity_matrices.build_C_strat(sampler.Z, frac, frac_noise, path_only)\n",
    "    if stratified\n",
    "    else\n",
    "    similarity_matrices.build_C(sampler.Z, frac, frac_noise)\n",
    ")\n",
    "sparsity = 100 * (C != 0).sum() / C.size\n",
    "plt.hist(C[C != 0].flatten());\n",
    "plt.title(f'Distribution of the nonzero entries of the constraint matrix C with {sparsity = :.2f}%');"
   ]
  },
  {
   "cell_type": "markdown",
   "metadata": {
    "slideshow": {
     "slide_type": ""
    },
    "tags": []
   },
   "source": [
    "## Fit model"
   ]
  },
  {
   "cell_type": "markdown",
   "metadata": {},
   "source": [
    "### Set parameters"
   ]
  },
  {
   "cell_type": "code",
   "execution_count": null,
   "metadata": {
    "ExecuteTime": {
     "end_time": "2024-01-15T11:34:55.152545Z",
     "start_time": "2024-01-15T11:34:55.152539Z"
    },
    "slideshow": {
     "slide_type": ""
    },
    "tags": []
   },
   "outputs": [],
   "source": [
    "# range for the number of clusters\n",
    "Ks = [1, 2, 3]  # number of clusters tested in model selection\n",
    "\n",
    "# semi supervision\n",
    "etas_min, etas_max, n_steps = 100., 1000., 5\n",
    "etas = np.linspace(etas_min, etas_max, n_steps)\n",
    "init_partition_with_C = False  # True, False\n",
    "ss_mode = 'mixture'  # mixture, all\n",
    "damping_factor = None  # None or float in (0., 1.)\n",
    "\n",
    "\n",
    "# model parameters\n",
    "constrained_sigma2 = 'sigma_k'  # sigma_jk, sigma_k\n",
    "constrained_gamma = 'gamma_km'  # gamma, gamma_m, gamma_km\n",
    "\n",
    "# priors\n",
    "alpha_zero = 1.1  # set to 1.1 for ML estimation\n",
    "beta_zero = 1.1  # set to 1.1 for ML estimation\n",
    "prior_sigma2 = 'minimum_dof'  # minimum_dof, no_prior \n",
    "\n",
    "# EM algorithm\n",
    "em_type_first_step = 'CEM'  # SEM, CEM, VEM, EM\n",
    "em_type_second_step = 'VEM' # SEM, CEM, VEM, EM\n",
    "n_init_first_step = 10\n",
    "n_selected_inits = 1\n",
    "n_init_second_step_per_selected_init = 5\n",
    "n_loops_e_step_max = 1\n",
    "full_sequential = True  # True, False\n",
    "max_iter_em = 40\n",
    "atol_iter_em = 1e-8\n",
    "rtol_iter_em = 1e-5\n",
    "\n",
    "# parallelism\n",
    "n_parallel_runs = 1\n",
    "n_processes = 1\n",
    "joblib_parallel_backend = 'loky'\n",
    "\n",
    "# initialization\n",
    "n_init_km = 20\n",
    "algo_init_partition = 'kmeans'\n",
    "algo_init_tau = 'sim'  # naive, sim\n",
    "coarsening_factor = 3\n",
    "proba_init = .5\n",
    "cluster_perturbation_rate = .3\n",
    "\n",
    "# misc\n",
    "dtype = 'float64'\n",
    "min_float = 1e-30\n",
    "shallow = False\n",
    "write_params = True    \n",
    "random_state = 123\n",
    "debug = False\n",
    "verbose = 0"
   ]
  },
  {
   "cell_type": "markdown",
   "metadata": {
    "slideshow": {
     "slide_type": ""
    },
    "tags": []
   },
   "source": [
    "### Run"
   ]
  },
  {
   "cell_type": "code",
   "execution_count": null,
   "metadata": {
    "ExecuteTime": {
     "end_time": "2024-01-15T11:34:55.152960Z",
     "start_time": "2024-01-15T11:34:55.152955Z"
    },
    "editable": false,
    "slideshow": {
     "slide_type": ""
    },
    "tags": []
   },
   "outputs": [],
   "source": [
    "nu_zero = (\n",
    "    T + sampler.S.max() + 2\n",
    "    if prior_sigma2 == 'minimum_dof'\n",
    "    else\n",
    "    None\n",
    ")\n",
    "etas = [0] if C is None else etas\n",
    "model_results = two_steps_fit.parallel_fit_over_etas(\n",
    "    X=sampler.X,\n",
    "    Ks=Ks,\n",
    "    S=S,\n",
    "    etas=etas,\n",
    "    C=C,\n",
    "    n_init_first_step=n_init_first_step,\n",
    "    n_selected_inits=n_selected_inits,\n",
    "    n_init_second_step_per_selected_init=n_init_second_step_per_selected_init,\n",
    "    n_loops_e_step_max=n_loops_e_step_max,\n",
    "    em_type_first_step=em_type_first_step,\n",
    "    em_type_second_step=em_type_second_step,\n",
    "    ss_mode=ss_mode,\n",
    "    damping_factor=damping_factor,\n",
    "    full_sequential=full_sequential,\n",
    "    constrained_gamma=constrained_gamma,\n",
    "    constrained_sigma2=constrained_sigma2,\n",
    "    alpha_zero=alpha_zero,\n",
    "    beta_zero=beta_zero,\n",
    "    nu_zero=nu_zero,\n",
    "    algo_init_partition=algo_init_partition,\n",
    "    algo_init_tau=algo_init_tau,\n",
    "    coarsening_factor=coarsening_factor,\n",
    "    cluster_perturbation_rate=cluster_perturbation_rate,\n",
    "    proba_init=proba_init,\n",
    "    n_init_km=n_init_km,\n",
    "    atol_iter_em=atol_iter_em,\n",
    "    rtol_iter_em=rtol_iter_em,\n",
    "    max_iter_em=max_iter_em,\n",
    "    min_float=min_float,\n",
    "    n_processes=n_processes,\n",
    "    n_parallel_runs=n_parallel_runs,\n",
    "    joblib_parallel_backend=joblib_parallel_backend,\n",
    "    verbose=verbose,\n",
    "    dtype=dtype,\n",
    "    debug=debug,\n",
    "    shallow=shallow,\n",
    "    write_params=write_params,\n",
    "    model_results_dir=model_results_dir,\n",
    ")"
   ]
  },
  {
   "cell_type": "markdown",
   "metadata": {
    "slideshow": {
     "slide_type": ""
    },
    "tags": []
   },
   "source": [
    "## Convergence and criterions"
   ]
  },
  {
   "cell_type": "code",
   "execution_count": null,
   "metadata": {
    "ExecuteTime": {
     "end_time": "2024-01-15T11:34:55.153532Z",
     "start_time": "2024-01-15T11:34:55.153526Z"
    },
    "editable": false,
    "slideshow": {
     "slide_type": ""
    },
    "tags": []
   },
   "outputs": [],
   "source": [
    "em_types = set([mr.em_type for mr in model_results])\n",
    "semi_supervised = C is not None and etas.size > 0\n",
    "n_variable_params = len(etas) * len(Ks)\n",
    "\n",
    "f, ax = plt.subplots(\n",
    "    n_variable_params, len(em_types), \n",
    "    figsize=(6 * len(em_types), 3 * n_variable_params), \n",
    "    sharey=False, squeeze=False, tight_layout=True\n",
    ")\n",
    "\n",
    "i = 0\n",
    "for k in Ks:\n",
    "    for eta in etas:\n",
    "        for j, em_type in enumerate(em_types):\n",
    "            for mr in model_results:\n",
    "                if mr.em_type == em_type and mr.K == k and (not mr.semi_supervised or mr.eta == eta):\n",
    "                    ax[i, j].plot(mr.iter_criterions)\n",
    "                    ax[i, j].set_title(f'K = {k}, {eta = :.2f}\\n{em_type} criterions')\n",
    "        i += 1"
   ]
  },
  {
   "cell_type": "code",
   "execution_count": null,
   "metadata": {
    "ExecuteTime": {
     "end_time": "2024-01-15T11:34:55.154044Z",
     "start_time": "2024-01-15T11:34:55.154038Z"
    },
    "editable": false,
    "slideshow": {
     "slide_type": ""
    },
    "tags": []
   },
   "outputs": [],
   "source": [
    "plotting.plot_similarity_scores(model_results)"
   ]
  },
  {
   "cell_type": "markdown",
   "metadata": {},
   "source": [
    "## Model selection"
   ]
  },
  {
   "cell_type": "code",
   "execution_count": null,
   "metadata": {
    "ExecuteTime": {
     "end_time": "2024-01-15T11:34:55.154534Z",
     "start_time": "2024-01-15T11:34:55.154529Z"
    },
    "slideshow": {
     "slide_type": ""
    },
    "tags": []
   },
   "outputs": [],
   "source": [
    "min_R = .0"
   ]
  },
  {
   "cell_type": "code",
   "execution_count": null,
   "metadata": {
    "ExecuteTime": {
     "end_time": "2024-01-15T11:34:55.155021Z",
     "start_time": "2024-01-15T11:34:55.155015Z"
    },
    "editable": false,
    "slideshow": {
     "slide_type": ""
    },
    "tags": []
   },
   "outputs": [],
   "source": [
    "crit1, crit2 = 'bic', 'scw'\n",
    "df_res = model_selection.get_metrics_df(model_results)\n",
    "df_res = model_selection.assign_pareto_efficient(df_res, crit1, crit2)\n",
    "\n",
    "fs = 8\n",
    "fs_selcted = 8\n",
    "scatter_size = 50.\n",
    "selected_size = 800.\n",
    "\n",
    "y_offset = .0002\n",
    "lw = 2.\n",
    "\n",
    "if not semi_supervised:\n",
    "    K_found = Ks[np.argmax(df_res.groupby('K').agg({crit1: 'max'}).values)]\n",
    "    df_bic = df_res.query(\"K == @K_found\")\n",
    "\n",
    "    mr_id = df_bic.iloc[[np.argmax(df_bic[crit1].values)]].mr_id.values[0]\n",
    "    model_result = [mr for mr in model_results if mr.mr_id == mr_id].pop()\n",
    "else:\n",
    "    df_res_filtered = (\n",
    "        df_res\n",
    "        .query(\"K_pareto_efficient\")\n",
    "        .query(\"scw >= @min_R\")\n",
    "    )\n",
    "    assert df_res_filtered.size >= 2, 'value of min_R is too high'\n",
    "    X_crits_eff = df_res_filtered[[crit1, crit2]].values\n",
    "    selected_point = model_selection.heuristic_model_selection_on_pareto_front(\n",
    "        X_crits_eff, method='farthest'\n",
    "    )\n",
    "    selected_mr_id = df_res_filtered.iloc[selected_point].mr_id\n",
    "    model_result = [\n",
    "        mr\n",
    "        for mr in model_results\n",
    "        if mr.mr_id == df_res_filtered.iloc[selected_point].mr_id\n",
    "    ].pop()\n",
    "\n",
    "    d = df_res_filtered.query(\"mr_id == @selected_mr_id\")\n",
    "    x_plot, y_plot, k_plot = d[crit1], d[crit2], k\n",
    "    first_model = {}\n",
    "\n",
    "    f, ax = plt.subplots(1, 1, figsize=(10, 5))\n",
    "    n_colors = np.unique(df_res_filtered['K']).size\n",
    "    cmap = sns.color_palette('colorblind', n_colors, as_cmap=True)\n",
    "\n",
    "    for k, g in df_res_filtered.groupby('K'):\n",
    "        ax.scatter(\n",
    "            g[crit1], g[crit2],\n",
    "            s=scatter_size, alpha=.6, color=cmap[k % len(cmap)], zorder=1\n",
    "        )  \n",
    "        x, y = g[crit1].values, g[crit2].values\n",
    "        order = np.argsort(x)\n",
    "        first_model[k] = g.mr_id.values[order][0]\n",
    "        ax.plot(\n",
    "            x[order], y[order],\n",
    "            color=cmap[k % len(cmap)], zorder=1, lw=lw\n",
    "        )\n",
    "    ax.scatter(\n",
    "        x_plot, y_plot,\n",
    "        s=2 * scatter_size, alpha=.9, color=cmap[k_plot % len(cmap)],\n",
    "        edgecolor='k', linewidth=1.2, zorder=2, marker='D'\n",
    "    )\n",
    "\n",
    "    for i, (x, y, k, eta, mr_id) in enumerate(zip(\n",
    "            df_res_filtered[crit1],\n",
    "            df_res_filtered[crit2],\n",
    "            df_res_filtered.K,\n",
    "            df_res_filtered.eta,\n",
    "            df_res_filtered.mr_id\n",
    "        )):\n",
    "        if i == selected_point:\n",
    "            text = (\n",
    "                'K=' + str(k) + '\\n' + \n",
    "                'eta=' + str(eta).split('.')[0]\n",
    "            )\n",
    "            ax.text(\n",
    "                x, y + y_offset, text, fontsize=fs_selcted,\n",
    "                verticalalignment='bottom', horizontalalignment='left', zorder=2, weight='bold'\n",
    "            )\n",
    "        if mr_id == first_model[k]:\n",
    "            text = 'K=' + str(k)\n",
    "            ax.text(\n",
    "                x, y + y_offset, text, fontsize=fs,\n",
    "                verticalalignment='center', horizontalalignment='center', zorder=2\n",
    "            )\n",
    "\n",
    "    ax.set_xlabel('BIC');\n",
    "    ax.set_ylabel('R');\n",
    "    \n",
    "model_result.load_shallow_from_pickle()\n",
    "if not model_result.write_params:\n",
    "    print('Model is empty')\n",
    "\n",
    "print(f'Found K = {model_result.K} and eta = {model_result.eta:.2f}')"
   ]
  },
  {
   "cell_type": "markdown",
   "metadata": {},
   "source": [
    "# Metrics"
   ]
  },
  {
   "cell_type": "code",
   "execution_count": null,
   "metadata": {
    "ExecuteTime": {
     "end_time": "2024-01-15T11:34:55.155506Z",
     "start_time": "2024-01-15T11:34:55.155500Z"
    },
    "editable": false,
    "slideshow": {
     "slide_type": ""
    },
    "tags": []
   },
   "outputs": [],
   "source": [
    "if C is not None:\n",
    "    if (C > 0.).any():\n",
    "        _, R = similarity_matrices.similarity_concordance(model_result.Z, np.clip(C, 0, None))\n",
    "        print(f'ML {R = :.4f}')\n",
    "    if (C < 0.).any():\n",
    "        _, R = similarity_matrices.similarity_concordance(model_result.Z, np.clip(C, None, 0))\n",
    "        print(f'CL {R = :.4f}')\n",
    "    _, R = similarity_matrices.similarity_concordance(model_result.Z, C)\n",
    "    print(f'ALL {R = :.4f}')\n",
    "    print()\n",
    "\n",
    "ari = adjusted_rand_score(sampler.Z, model_result.Z)\n",
    "mae = np.abs(sampler.tau - model_result.tau).mean()\n",
    "cmat = confusion_matrix(sampler.Z, model_result.Z)\n",
    "row_ind, col_ind = linear_sum_assignment(- cmat)\n",
    "cmat = cmat[np.ix_(row_ind, col_ind)]\n",
    "print(f'ARI = {ari}')\n",
    "print(f'MAE tau = {mae}')\n",
    "print('clustering confusion matrix: ')\n",
    "print('C_ij is equal to the number of observations known to be in group i and predicted to be in group j.')\n",
    "print('C = ')\n",
    "print(cmat)\n",
    "print()"
   ]
  },
  {
   "cell_type": "markdown",
   "metadata": {},
   "source": [
    "# Plots"
   ]
  },
  {
   "cell_type": "code",
   "execution_count": null,
   "metadata": {
    "ExecuteTime": {
     "end_time": "2024-01-15T11:34:55.155993Z",
     "start_time": "2024-01-15T11:34:55.155987Z"
    },
    "slideshow": {
     "slide_type": ""
    },
    "tags": []
   },
   "outputs": [],
   "source": [
    "all_plots = [\n",
    "    ('X_unshifted', ),\n",
    "    ('X_shifted', ),\n",
    "    ('mu', 'sigma2'),\n",
    "    ('shifts', )\n",
    "]\n",
    "subfigsize = (5, 3)\n",
    "n_sigma = 3"
   ]
  },
  {
   "cell_type": "code",
   "execution_count": null,
   "metadata": {
    "ExecuteTime": {
     "end_time": "2024-01-15T11:34:55.156486Z",
     "start_time": "2024-01-15T11:34:55.156479Z"
    },
    "editable": false,
    "slideshow": {
     "slide_type": ""
    },
    "tags": []
   },
   "outputs": [],
   "source": [
    "variance_reduction_factors = model_selection.compute_variance_reduction_factors(\n",
    "    model_result.Z, model_result.K, model_result.tau_inds,\n",
    "    model_result.X, model_result.S,\n",
    "    model_result.constrained_sigma2, model_result.sigma2_zero, model_result.nu_zero,\n",
    "    model_result.min_den, model_result.min_float\n",
    ")\n",
    "\n",
    "plotting.combined_plot(\n",
    "    all_plots=all_plots,\n",
    "    X=model_result.X,\n",
    "    S=model_result.S,\n",
    "    tau=model_result.tau,\n",
    "    VS_tau=model_result.VS_tau,\n",
    "    Z=model_result.Z,\n",
    "    mu=model_result.mu,\n",
    "    sigma2=model_result.sigma2,\n",
    "    n_sigma=n_sigma,\n",
    "    variance_reduction_factors=variance_reduction_factors,\n",
    "    subfigsize=subfigsize,\n",
    ")"
   ]
  },
  {
   "cell_type": "code",
   "execution_count": null,
   "metadata": {},
   "outputs": [],
   "source": []
  }
 ],
 "metadata": {
  "celltoolbar": "Edit Metadata",
  "kernelspec": {
   "display_name": "Python 3 (ipykernel)",
   "language": "python",
   "name": "python3"
  },
  "language_info": {
   "codemirror_mode": {
    "name": "ipython",
    "version": 3
   },
   "file_extension": ".py",
   "mimetype": "text/x-python",
   "name": "python",
   "nbconvert_exporter": "python",
   "pygments_lexer": "ipython3",
   "version": "3.9.16"
  },
  "toc": {
   "base_numbering": 1,
   "nav_menu": {},
   "number_sections": true,
   "sideBar": true,
   "skip_h1_title": false,
   "title_cell": "Table of Contents",
   "title_sidebar": "Contents",
   "toc_cell": false,
   "toc_position": {},
   "toc_section_display": true,
   "toc_window_display": true
  },
  "vscode": {
   "interpreter": {
    "hash": "de20f9ffa97317126e68c404d025eb4745b0e0d1f564934f1ddb900515dc545c"
   }
  }
 },
 "nbformat": 4,
 "nbformat_minor": 4
}
